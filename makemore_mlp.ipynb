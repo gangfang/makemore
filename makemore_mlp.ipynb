{
 "cells": [
  {
   "cell_type": "code",
   "execution_count": 1009,
   "metadata": {},
   "outputs": [],
   "source": [
    "import torch\n",
    "import torch.nn.functional as F\n",
    "import matplotlib.pyplot as plt\n",
    "%matplotlib inline"
   ]
  },
  {
   "cell_type": "code",
   "execution_count": 1010,
   "metadata": {},
   "outputs": [],
   "source": [
    "words = open(\"names.txt\", 'r').read().splitlines()\n",
    "characters = sorted(list(set(''.join(words))))\n",
    "stoi = {s:i+1 for i, s in enumerate(characters)}\n",
    "stoi['.'] = 0\n",
    "itos = {i:s for s, i in stoi.items()}"
   ]
  },
  {
   "cell_type": "code",
   "execution_count": 1011,
   "metadata": {},
   "outputs": [],
   "source": [
    "# building the training set (remember: all data are represented in number)\n",
    "block_size = 3\n",
    "X = []\n",
    "Y = []\n",
    "for word in words:\n",
    "  word += \".\"\n",
    "  x = block_size * [0]\n",
    "  # print(word)\n",
    "  for char in word:\n",
    "    y = stoi[char]\n",
    "    # print(f\"{\"\".join([itos[c] for c in x])} ---> {itos[y]}\")\n",
    "    X.append(x)\n",
    "    Y.append(y)\n",
    "    x = x[1:] + [y]\n",
    "\n",
    "# why do I turn them into tensor?\n",
    "# bc they start the forward pass and needed to be matrix multiplied\n",
    "X = torch.tensor(X)\n",
    "Y = torch.tensor(Y)"
   ]
  },
  {
   "cell_type": "code",
   "execution_count": 1012,
   "metadata": {},
   "outputs": [
    {
     "name": "stdout",
     "output_type": "stream",
     "text": [
      "torch.Size([228146, 3])\n",
      "torch.int64\n",
      "torch.Size([228146])\n",
      "torch.int64\n"
     ]
    }
   ],
   "source": [
    "print(X.shape), print(X.dtype), print(Y.shape), print(Y.dtype)\n",
    "\n",
    "# My splitting solution... but i can't do this because \n",
    "# 1) the word list is not random and \n",
    "# 2) the possibility of examples of certain pattern like the beginning of a word e.g., [\".\", \".\", \".\"] congregating should be avoided\n",
    "# Therefore, we should split the word list instead of the original dataset\n",
    "# split_1 = int(0.8 * X.shape[0])  # I can't assume torch.Size is a scalar, that's why I need to use shape[0] to access first dimension even for Y\n",
    "# split_2 = int(0.9 * X.shape[0])  # remembe to make it an int\n",
    "# Xtr, Ytr = X[:split_1], Y[:split_1]\n",
    "# Xdev, Ydev = X[split_1:split_2], Y[:split_1:split_2]\n",
    "# Xte, Yte = X[split_1:], Y[split_1:]\n",
    "\n",
    "def build_dataset(words):\n",
    "  block_size = 3\n",
    "  X = []\n",
    "  Y = []\n",
    "  for word in words:\n",
    "    word += \".\"\n",
    "    x = block_size * [0]\n",
    "    # print(word)\n",
    "    for char in word:\n",
    "      y = stoi[char]\n",
    "      # print(f\"{\"\".join([itos[c] for c in x])} ---> {itos[y]}\")\n",
    "      X.append(x)\n",
    "      Y.append(y)\n",
    "      x = x[1:] + [y]\n",
    "\n",
    "  X = torch.tensor(X)\n",
    "  Y = torch.tensor(Y)\n",
    "  return X, Y\n",
    "\n",
    "import random\n",
    "random.shuffle(words)\n",
    "n1 = int(0.8*len(words))\n",
    "n2 = int(0.9*len(words))\n",
    "Xtr, Ytr = build_dataset(words[:n1])\n",
    "Xdev, Ydev = build_dataset(words[n1:n2])\n",
    "Xte, Yte = build_dataset(words[n2:])"
   ]
  },
  {
   "cell_type": "code",
   "execution_count": 1013,
   "metadata": {},
   "outputs": [
    {
     "data": {
      "text/plain": [
       "(tensor([[ 0,  0,  0],\n",
       "         [ 0,  0,  5],\n",
       "         [ 0,  5, 12],\n",
       "         ...,\n",
       "         [21, 19, 20],\n",
       "         [19, 20,  9],\n",
       "         [20,  9, 14]]),\n",
       " tensor([ 5, 12,  5,  ...,  9, 14,  0]))"
      ]
     },
     "execution_count": 1013,
     "metadata": {},
     "output_type": "execute_result"
    }
   ],
   "source": [
    "Xtr, Ytr"
   ]
  },
  {
   "cell_type": "code",
   "execution_count": 1014,
   "metadata": {},
   "outputs": [
    {
     "name": "stdout",
     "output_type": "stream",
     "text": [
      "tensor([[ 1.1551,  0.7904],\n",
      "        [ 1.1386, -0.9772],\n",
      "        [ 0.2315,  1.0457],\n",
      "        [-2.0389,  0.1272],\n",
      "        [-0.0222,  0.4795],\n",
      "        [ 0.4256, -0.2212],\n",
      "        [-0.5517,  0.7034],\n",
      "        [ 0.6038, -1.0518],\n",
      "        [ 1.6930, -0.3529],\n",
      "        [-1.2518, -0.1494],\n",
      "        [-0.0536, -1.5129],\n",
      "        [-1.8383, -0.1515],\n",
      "        [ 0.0663, -1.5128],\n",
      "        [ 0.2512,  0.2963],\n",
      "        [ 0.8135,  0.6877],\n",
      "        [-0.2484, -0.5110],\n",
      "        [ 1.3003,  1.1638],\n",
      "        [ 0.3504,  0.1922],\n",
      "        [-0.0384,  0.6346],\n",
      "        [ 0.1960, -0.2765],\n",
      "        [-0.1588,  1.6116],\n",
      "        [-1.0640,  0.9192],\n",
      "        [-0.3400, -0.3336],\n",
      "        [-0.9567, -0.6890],\n",
      "        [-1.0174,  0.7999],\n",
      "        [-0.3995, -1.5035],\n",
      "        [ 0.8655,  0.5250]])\n"
     ]
    }
   ],
   "source": [
    "# defining the embedding matrix C\n",
    "C = torch.randn((27, 2))\n",
    "print(C)"
   ]
  },
  {
   "cell_type": "code",
   "execution_count": 1015,
   "metadata": {},
   "outputs": [
    {
     "name": "stdout",
     "output_type": "stream",
     "text": [
      "tensor([ 0.4256, -0.2212])\n",
      "tensor([ 0.4256, -0.2212])\n"
     ]
    }
   ],
   "source": [
    "# two different interpretations of the embedding layer\n",
    "# 1. matrix value retrieval\n",
    "print(C[5])\n",
    "# 2. a linear layer\n",
    "print(torch.nn.functional.one_hot(torch.tensor(5), num_classes=27).float() @ C)"
   ]
  },
  {
   "cell_type": "code",
   "execution_count": 1016,
   "metadata": {},
   "outputs": [
    {
     "ename": "IndexError",
     "evalue": "too many indices for tensor of dimension 2",
     "output_type": "error",
     "traceback": [
      "\u001b[0;31m---------------------------------------------------------------------------\u001b[0m",
      "\u001b[0;31mIndexError\u001b[0m                                Traceback (most recent call last)",
      "Cell \u001b[0;32mIn[1016], line 2\u001b[0m\n\u001b[1;32m      1\u001b[0m \u001b[38;5;66;03m# retrieving multiple embedding values\u001b[39;00m\n\u001b[0;32m----> 2\u001b[0m \u001b[43mC\u001b[49m\u001b[43m[\u001b[49m\u001b[38;5;241;43m5\u001b[39;49m\u001b[43m,\u001b[49m\u001b[38;5;241;43m6\u001b[39;49m\u001b[43m,\u001b[49m\u001b[38;5;241;43m7\u001b[39;49m\u001b[43m,\u001b[49m\u001b[38;5;241;43m7\u001b[39;49m\u001b[43m,\u001b[49m\u001b[38;5;241;43m7\u001b[39;49m\u001b[43m]\u001b[49m\n",
      "\u001b[0;31mIndexError\u001b[0m: too many indices for tensor of dimension 2"
     ]
    }
   ],
   "source": [
    "# retrieving multiple embedding values\n",
    "C[5,6,7,7,7]"
   ]
  },
  {
   "cell_type": "code",
   "execution_count": null,
   "metadata": {},
   "outputs": [
    {
     "name": "stdout",
     "output_type": "stream",
     "text": [
      "tensor([ 1.0833, -1.5884, -2.1256, -0.8095, -0.3438, -0.1761,  2.1422, -0.4139,\n",
      "        -0.9470, -0.6801], grad_fn=<SelectBackward0>)\n",
      "tensor([[-1.1422, -0.3441,  0.0879, -0.3628,  0.0296,  1.3794,  0.1016,  0.6090,\n",
      "          0.3779,  0.0466],\n",
      "        [ 3.1942,  0.8209, -0.2246,  1.1427, -0.4684,  4.4187, -1.2241, -3.0324,\n",
      "          0.8033, -1.1875],\n",
      "        [-0.1132, -0.0658, -0.0536, -0.4548,  0.7261, -0.5879, -0.1529, -0.6579,\n",
      "         -0.0797,  0.4862],\n",
      "        [-0.1132, -0.0658, -0.0536, -0.4548,  0.7261, -0.5879, -0.1529, -0.6579,\n",
      "         -0.0797,  0.4862],\n",
      "        [-0.1132, -0.0658, -0.0536, -0.4548,  0.7261, -0.5879, -0.1529, -0.6579,\n",
      "         -0.0797,  0.4862]], grad_fn=<IndexBackward0>)\n",
      "tensor([[[ 1.0833, -1.5884, -2.1256,  ..., -0.4139, -0.9470, -0.6801],\n",
      "         [ 1.0833, -1.5884, -2.1256,  ..., -0.4139, -0.9470, -0.6801],\n",
      "         [ 1.0833, -1.5884, -2.1256,  ..., -0.4139, -0.9470, -0.6801]],\n",
      "\n",
      "        [[ 1.0833, -1.5884, -2.1256,  ..., -0.4139, -0.9470, -0.6801],\n",
      "         [ 1.0833, -1.5884, -2.1256,  ..., -0.4139, -0.9470, -0.6801],\n",
      "         [-1.1422, -0.3441,  0.0879,  ...,  0.6090,  0.3779,  0.0466]],\n",
      "\n",
      "        [[ 1.0833, -1.5884, -2.1256,  ..., -0.4139, -0.9470, -0.6801],\n",
      "         [-1.1422, -0.3441,  0.0879,  ...,  0.6090,  0.3779,  0.0466],\n",
      "         [ 0.0682, -0.5080,  0.2138,  ..., -0.5147, -0.7156,  0.4645]],\n",
      "\n",
      "        ...,\n",
      "\n",
      "        [[ 0.3228, -0.3192,  0.2156,  ..., -0.3790, -0.3165,  0.2548],\n",
      "         [ 0.3228, -0.3192,  0.2156,  ..., -0.3790, -0.3165,  0.2548],\n",
      "         [-1.0581, -0.7538,  2.5273,  ...,  0.8656, -0.1479,  0.3128]],\n",
      "\n",
      "        [[ 0.3228, -0.3192,  0.2156,  ..., -0.3790, -0.3165,  0.2548],\n",
      "         [-1.0581, -0.7538,  2.5273,  ...,  0.8656, -0.1479,  0.3128],\n",
      "         [ 0.3228, -0.3192,  0.2156,  ..., -0.3790, -0.3165,  0.2548]],\n",
      "\n",
      "        [[-1.0581, -0.7538,  2.5273,  ...,  0.8656, -0.1479,  0.3128],\n",
      "         [ 0.3228, -0.3192,  0.2156,  ..., -0.3790, -0.3165,  0.2548],\n",
      "         [-0.1825, -1.0251,  1.3112,  ...,  0.3138,  0.2936, -0.7894]]],\n",
      "       grad_fn=<IndexBackward0>)\n"
     ]
    },
    {
     "data": {
      "text/plain": [
       "torch.Size([228146, 3, 10])"
      ]
     },
     "execution_count": 488,
     "metadata": {},
     "output_type": "execute_result"
    }
   ],
   "source": [
    "# retrieving multiple embedding values\n",
    "print(C[0])\n",
    "print(C[[5,6,7,7,7]])  # give it a list when i need to retrieve multiple results at once, and the result is in a nested list too\n",
    "print(C[X]) # what this is really doing is the addition of C.dim()-1 more dimension\n",
    "emb = C[X]\n",
    "emb.shape"
   ]
  },
  {
   "cell_type": "code",
   "execution_count": null,
   "metadata": {},
   "outputs": [
    {
     "data": {
      "text/plain": [
       "torch.Size([32, 3])"
      ]
     },
     "execution_count": 36,
     "metadata": {},
     "output_type": "execute_result"
    }
   ],
   "source": [
    "torch.unbind(emb, 2)[0].shape # examining the size of the result of unbind operations"
   ]
  },
  {
   "cell_type": "code",
   "execution_count": null,
   "metadata": {},
   "outputs": [
    {
     "name": "stdout",
     "output_type": "stream",
     "text": [
      "torch.Size([32, 6])\n",
      "torch.Size([32, 6])\n"
     ]
    },
    {
     "data": {
      "text/plain": [
       "tensor([[True, True, True, True, True, True],\n",
       "        [True, True, True, True, True, True],\n",
       "        [True, True, True, True, True, True],\n",
       "        [True, True, True, True, True, True],\n",
       "        [True, True, True, True, True, True],\n",
       "        [True, True, True, True, True, True],\n",
       "        [True, True, True, True, True, True],\n",
       "        [True, True, True, True, True, True],\n",
       "        [True, True, True, True, True, True],\n",
       "        [True, True, True, True, True, True],\n",
       "        [True, True, True, True, True, True],\n",
       "        [True, True, True, True, True, True],\n",
       "        [True, True, True, True, True, True],\n",
       "        [True, True, True, True, True, True],\n",
       "        [True, True, True, True, True, True],\n",
       "        [True, True, True, True, True, True],\n",
       "        [True, True, True, True, True, True],\n",
       "        [True, True, True, True, True, True],\n",
       "        [True, True, True, True, True, True],\n",
       "        [True, True, True, True, True, True],\n",
       "        [True, True, True, True, True, True],\n",
       "        [True, True, True, True, True, True],\n",
       "        [True, True, True, True, True, True],\n",
       "        [True, True, True, True, True, True],\n",
       "        [True, True, True, True, True, True],\n",
       "        [True, True, True, True, True, True],\n",
       "        [True, True, True, True, True, True],\n",
       "        [True, True, True, True, True, True],\n",
       "        [True, True, True, True, True, True],\n",
       "        [True, True, True, True, True, True],\n",
       "        [True, True, True, True, True, True],\n",
       "        [True, True, True, True, True, True]])"
      ]
     },
     "execution_count": 40,
     "metadata": {},
     "output_type": "execute_result"
    }
   ],
   "source": [
    "# creating weight matrix for the hidden layer\n",
    "nn = 100 # number of neurons\n",
    "W1 = torch.randn((6, nn))\n",
    "b1 = torch.randn(nn)\n",
    "\n",
    "# using cat and unbind to reshape a tensor to a shape that will work with the hidden layer\n",
    "print(torch.cat(torch.unbind(emb, 1), 1).shape)\n",
    "\n",
    "# a much more efficient way to achieve the above (due to the internal storage of a tensor, which is flat)\n",
    "print(emb.view(-1, 6).shape)\n",
    "# element-wise comparison\n",
    "torch.cat(torch.unbind(emb, 1), 1) == emb.view(-1, 6)"
   ]
  },
  {
   "cell_type": "code",
   "execution_count": null,
   "metadata": {},
   "outputs": [
    {
     "data": {
      "text/plain": [
       "torch.Size([32, 100])"
      ]
     },
     "execution_count": 46,
     "metadata": {},
     "output_type": "execute_result"
    }
   ],
   "source": [
    "# building the hidden layer\n",
    "h = torch.tanh(emb.view(-1, 6) @ W1 + b1)\n",
    "# pay attention to the broadcasting rule when doing addition\n",
    "# 32 100\n",
    "#    100\n",
    "h.shape"
   ]
  },
  {
   "cell_type": "code",
   "execution_count": null,
   "metadata": {},
   "outputs": [],
   "source": [
    "# building the output layer\n",
    "num_chars = len(stoi)\n",
    "W2 = torch.randn((nn, num_chars))\n",
    "b2 = torch.randn(num_chars)"
   ]
  },
  {
   "cell_type": "code",
   "execution_count": null,
   "metadata": {},
   "outputs": [],
   "source": [
    "logits = h @ W2 + b2\n",
    "# mine: \n",
    "prob = torch.nn.functional.softmax(logits, 1)\n",
    "# andrej manual version\n",
    "counts = logits.exp()  # turning all values including neg to pos values\n",
    "man = counts / counts.sum(1, keepdim=True)\n",
    "# print(prob[0] == man[0]) # some elements are false bc built-in softmax function is optimized for numerical stability. It internally adjusts the logits by subtracting the maximum logit value in each set of logits before computing the exponential to prevent overflow issues (very large numbers) that can lead to NaN values\n",
    "# prob[0], man[0]"
   ]
  },
  {
   "cell_type": "code",
   "execution_count": null,
   "metadata": {},
   "outputs": [
    {
     "data": {
      "text/plain": [
       "tensor([8.1670e-03, 5.0728e-06, 1.8763e-07, 6.2080e-04, 4.4173e-11, 4.3991e-06,\n",
       "        1.4915e-16, 2.1790e-07, 1.7324e-18, 4.0890e-10, 4.5347e-14, 3.6155e-11,\n",
       "        2.3539e-10, 2.4980e-07, 5.3411e-04, 5.6448e-03, 5.3140e-06, 1.5372e-12,\n",
       "        8.0708e-04, 2.0666e-05, 1.3677e-05, 8.0789e-10, 1.3714e-02, 2.9413e-07,\n",
       "        2.1350e-05, 1.0483e-15, 3.5529e-07, 2.8341e-11, 2.8569e-12, 1.3825e-04,\n",
       "        6.3858e-09, 5.4972e-11])"
      ]
     },
     "execution_count": 101,
     "metadata": {},
     "output_type": "execute_result"
    }
   ],
   "source": [
    "# index into the targetted elements: both arange(32) and Y are vector tensor\n",
    "prob[torch.arange(32), Y]"
   ]
  },
  {
   "cell_type": "code",
   "execution_count": null,
   "metadata": {},
   "outputs": [
    {
     "data": {
      "text/plain": [
       "tensor(17.6957)"
      ]
     },
     "execution_count": 106,
     "metadata": {},
     "output_type": "execute_result"
    }
   ],
   "source": [
    "# manual nll\n",
    "# loss = -prob[torch.arange(32), Y].log().mean()\n",
    "loss = F.cross_entropy(logits, Y)\n",
    "loss"
   ]
  },
  {
   "cell_type": "code",
   "execution_count": null,
   "metadata": {},
   "outputs": [],
   "source": [
    "# all the code I wrote through loss constitutes the forward pass\n",
    "# start over here"
   ]
  },
  {
   "cell_type": "code",
   "execution_count": null,
   "metadata": {},
   "outputs": [],
   "source": [
    "nn = 300 # number of neurons\n",
    "# params init\n",
    "C = torch.randn((num_chars, 10)) # what is the requirement for the embedding? AN: there is none, the init value doesn't matter\n",
    "W1 = torch.randn((30, nn)) # remember: the first element in size tuple represents the input size/dimension, meaning viewed as a matrix, each column contains the list of weights for a neuron\n",
    "b1 = torch.randn(nn)\n",
    "W2 = torch.randn((nn, num_chars))\n",
    "b2 = torch.randn(num_chars)\n",
    "params = [C, W1, b1, W2, b2]\n",
    "for p in params:\n",
    "  p.requires_grad = True"
   ]
  },
  {
   "cell_type": "code",
   "execution_count": null,
   "metadata": {},
   "outputs": [
    {
     "data": {
      "text/plain": [
       "tensor([-1.7136, -0.7382,  0.5606,  0.5909, -2.5379,  1.1273, -0.8508, -0.6618,\n",
       "        -1.4565,  0.8236, -0.7284,  0.5174, -0.7299, -0.5263, -1.1230,  0.8833,\n",
       "        -1.8366, -0.5125,  0.2474,  0.8285,  1.3502,  1.2575,  1.3429, -1.3523,\n",
       "         0.3677, -1.2542,  0.0668], requires_grad=True)"
      ]
     },
     "execution_count": 977,
     "metadata": {},
     "output_type": "execute_result"
    }
   ],
   "source": [
    "torch.set_printoptions(sci_mode=False, precision=4)\n",
    "b2"
   ]
  },
  {
   "cell_type": "code",
   "execution_count": null,
   "metadata": {},
   "outputs": [
    {
     "name": "stdout",
     "output_type": "stream",
     "text": [
      "2.058016061782837\n"
     ]
    },
    {
     "data": {
      "text/plain": [
       "[<matplotlib.lines.Line2D at 0x13532ef60>]"
      ]
     },
     "execution_count": 978,
     "metadata": {},
     "output_type": "execute_result"
    },
    {
     "data": {
      "image/png": "[encoded data removed]",
      "text/plain": [
       "<Figure size 640x480 with 1 Axes>"
      ]
     },
     "metadata": {},
     "output_type": "display_data"
    }
   ],
   "source": [
    "stepi = []\n",
    "lossi = []\n",
    "\n",
    "batch_size = 128\n",
    "for i in range(200000):\n",
    "  # minibatch construct\n",
    "  ix = torch.randint(0, Xtr.shape[0], (batch_size,))\n",
    "  # forward pass\n",
    "  emb = C[Xtr[ix]]\n",
    "  h = torch.tanh(emb.view(-1, 30) @ W1 + b1)\n",
    "  logits = h @ W2 + b2\n",
    "  loss = F.cross_entropy(logits, Ytr[ix])\n",
    "  # backward pass\n",
    "  for p in params: # note: this reset (to None, not 0) happens before loss.backward()\n",
    "    p.grad = None\n",
    "  loss.backward()\n",
    "  # update\n",
    "  learning_rate = 0.1 if i < 100000 else 0.01\n",
    "  for p in params:\n",
    "    p.data += -learning_rate * p.grad\n",
    "  \n",
    "  # tracking stats\n",
    "  stepi.append(i)\n",
    "  lossi.append(loss.item())\n",
    "\n",
    "print(loss.item())\n",
    "plt.plot(stepi, lossi)\n",
    "# observations:\n",
    "# batch size from 30 to X.shape[0], the resulting loss of 100 iters is basically the same, around 10"
   ]
  },
  {
   "cell_type": "code",
   "execution_count": null,
   "metadata": {},
   "outputs": [
    {
     "data": {
      "text/plain": [
       "tensor(2.1119, grad_fn=<NllLossBackward0>)"
      ]
     },
     "execution_count": 979,
     "metadata": {},
     "output_type": "execute_result"
    }
   ],
   "source": [
    "# measuring loss on a specific fixed set instead of a random batch\n",
    "emb = C[Xtr]\n",
    "h = torch.tanh(emb.view(-1, 30) @ W1 + b1)\n",
    "logits = h @ W2 + b2\n",
    "loss = F.cross_entropy(logits, Ytr)\n",
    "loss"
   ]
  },
  {
   "cell_type": "code",
   "execution_count": null,
   "metadata": {},
   "outputs": [
    {
     "data": {
      "text/plain": [
       "tensor(2.1488, grad_fn=<NllLossBackward0>)"
      ]
     },
     "execution_count": 980,
     "metadata": {},
     "output_type": "execute_result"
    }
   ],
   "source": [
    "# measuring loss on a specific fixed set instead of a random batch\n",
    "emb = C[Xdev]\n",
    "h = torch.tanh(emb.view(-1, 30) @ W1 + b1)\n",
    "logits = h @ W2 + b2\n",
    "loss = F.cross_entropy(logits, Ydev)\n",
    "loss"
   ]
  },
  {
   "cell_type": "code",
   "execution_count": null,
   "metadata": {},
   "outputs": [
    {
     "name": "stdout",
     "output_type": "stream",
     "text": [
      "tensor([-38.8487, -29.2852, -30.9345, -30.4129, -30.6204, -30.5478, -31.6204,\n",
      "        -31.4023, -31.5383, -31.1708, -29.7186, -29.4484, -30.4082, -29.7561,\n",
      "        -30.6727, -31.6539, -31.6254, -32.6874, -30.0405, -30.0915, -30.2392,\n",
      "        -33.6654, -31.3115, -31.7813, -32.9425, -31.4655, -30.5488],\n",
      "       grad_fn=<SelectBackward0>)\n",
      "tensor([    0.0000,     0.1350,     0.0259,     0.0437,     0.0355,     0.0382,\n",
      "            0.0131,     0.0163,     0.0142,     0.0205,     0.0875,     0.1147,\n",
      "            0.0439,     0.0843,     0.0337,     0.0126,     0.0130,     0.0045,\n",
      "            0.0634,     0.0603,     0.0520,     0.0017,     0.0178,     0.0111,\n",
      "            0.0035,     0.0153,     0.0382], grad_fn=<SelectBackward0>)\n"
     ]
    },
    {
     "data": {
      "text/plain": [
       "tensor(0.0382, grad_fn=<SelectBackward0>)"
      ]
     },
     "execution_count": 936,
     "metadata": {},
     "output_type": "execute_result"
    }
   ],
   "source": [
    "print(logits[0])\n",
    "p = F.softmax(logits, dim=1)[0]\n",
    "print(p)\n",
    "p[torch.multinomial(p, num_samples=1).item()]"
   ]
  },
  {
   "cell_type": "code",
   "execution_count": null,
   "metadata": {},
   "outputs": [
    {
     "name": "stdout",
     "output_type": "stream",
     "text": [
      "kaidyn.\n",
      "nehudah.\n",
      "kelynka.\n",
      "cashban.\n",
      "vivan.\n",
      "zalay.\n",
      "sys.\n",
      "nyilia.\n",
      "pailan.\n",
      "jaklynn.\n"
     ]
    }
   ],
   "source": [
    "# sample from the model\n",
    "for _ in range(10):\n",
    "  out = []\n",
    "  context = block_size * [0] # correct\n",
    "  # context = [block_size * [0]] # correct: interpreted as training set with one example\n",
    "  # the two contexts are the same after it's transformed by emb.view(-1, 30)\n",
    "  while True:\n",
    "    # forward pass\n",
    "    emb = C[torch.tensor(context)]\n",
    "    h = torch.tanh(emb.view(-1, 30) @ W1 + b1)  # emb.view(-1, 30).dim() is determined by the number of params in .view(...)\n",
    "    logits = h @ W2 + b2\n",
    "    probs = F.softmax(logits, dim=1)\n",
    "    ix = torch.multinomial(probs, num_samples=1).item()\n",
    "    out.append(ix)\n",
    "    context = context[1:] + [ix]\n",
    "    if ix == 0:\n",
    "      break\n",
    "  print(\"\".join(itos[c] for c in out))"
   ]
  },
  {
   "cell_type": "code",
   "execution_count": null,
   "metadata": {},
   "outputs": [
    {
     "name": "stdout",
     "output_type": "stream",
     "text": [
      "7.0621161460876465\n"
     ]
    },
    {
     "data": {
      "text/plain": [
       "[<matplotlib.lines.Line2D at 0x13478dbe0>]"
      ]
     },
     "execution_count": 252,
     "metadata": {},
     "output_type": "execute_result"
    },
    {
     "data": {
      "image/png": "[encoded data removed]",
      "text/plain": [
       "<Figure size 640x480 with 1 Axes>"
      ]
     },
     "metadata": {},
     "output_type": "display_data"
    }
   ],
   "source": [
    "# finding the right learning rate:\n",
    "lre = torch.linspace(-5, 0, 1000) # learning rate exponent: lower and upper bounds -3 and 0 are determined manually\n",
    "lrs = 10**lre # learning rate steps\n",
    "# print(lrs)\n",
    "lri = [] # used for plotting\n",
    "lossi = [] # used for plotting\n",
    "\n",
    "C = torch.randn((num_chars, 2))\n",
    "W1 = torch.randn((6, nn))\n",
    "b1 = torch.randn(nn)\n",
    "W2 = torch.randn((nn, num_chars))\n",
    "b2 = torch.randn(num_chars)\n",
    "params = [C, W1, b1, W2, b2]\n",
    "for p in params:\n",
    "  p.requires_grad = True\n",
    "\n",
    "batch_size = 100\n",
    "for i in range(lre.shape[0]): # number of steps should be the same as the size of lre\n",
    "  ix = torch.randint(0, X.shape[0], (batch_size,))\n",
    "  emb = C[X[ix]]\n",
    "  h = torch.tanh(emb.view(-1, 6) @ W1 + b1)\n",
    "  logits = h @ W2 + b2\n",
    "  loss = F.cross_entropy(logits, Y[ix])\n",
    "  for p in params:\n",
    "    p.grad = None\n",
    "  loss.backward()\n",
    "\n",
    "  lr = lrs[i]\n",
    "  for p in params:\n",
    "    p.data += -lr * p.grad\n",
    "  \n",
    "  lri.append(lrs[i])\n",
    "  lossi.append(loss.item())\n",
    "print(loss.item())\n",
    "# plt.plot(lri, lossi)\n",
    "plt.plot(lre, lossi)  # plotting lre is better than lri bc lre is linear and hence more granularity afforded when we select"
   ]
  },
  {
   "cell_type": "code",
   "execution_count": null,
   "metadata": {},
   "outputs": [
    {
     "name": "stdout",
     "output_type": "stream",
     "text": [
      "2.2642323970794678\n"
     ]
    },
    {
     "data": {
      "text/plain": [
       "[<matplotlib.lines.Line2D at 0x135a8dbe0>]"
      ]
     },
     "execution_count": 983,
     "metadata": {},
     "output_type": "execute_result"
    },
    {
     "data": {
      "image/png": "[encoded data removed]",
      "text/plain": [
       "<Figure size 640x480 with 1 Axes>"
      ]
     },
     "metadata": {},
     "output_type": "display_data"
    }
   ],
   "source": [
    "# experimenting with different random param inits\n",
    "\n",
    "nn = 300 # number of neurons\n",
    "# params init\n",
    "C = torch.randn((num_chars, 10)) # what is the requirement for the embedding? AN: there is none, the init value doesn't matter\n",
    "W1 = torch.randn((30, nn)) # remember: the first element in size tuple represents the input size/dimension, meaning viewed as a matrix, each column contains the list of weights for a neuron\n",
    "b1 = torch.randn(nn)\n",
    "W2 = torch.randn((nn, num_chars))\n",
    "b2 = torch.randn(num_chars)\n",
    "params = [C, W1, b1, W2, b2]\n",
    "for p in params:\n",
    "  p.requires_grad = True\n",
    "\n",
    "stepi = []\n",
    "lossi = []\n",
    "\n",
    "batch_size = 128\n",
    "for i in range(200000):\n",
    "  # minibatch construct\n",
    "  ix = torch.randint(0, Xtr.shape[0], (batch_size,))\n",
    "  # forward pass\n",
    "  emb = C[Xtr[ix]]\n",
    "  h = torch.tanh(emb.view(-1, 30) @ W1 + b1)\n",
    "  logits = h @ W2 + b2\n",
    "  loss = F.cross_entropy(logits, Ytr[ix])\n",
    "  # backward pass\n",
    "  for p in params: # note: this reset (to None, not 0) happens before loss.backward()\n",
    "    p.grad = None\n",
    "  loss.backward()\n",
    "  # update\n",
    "  learning_rate = 0.1 if i < 100000 else 0.01\n",
    "  for p in params:\n",
    "    p.data += -learning_rate * p.grad\n",
    "  \n",
    "  # tracking stats\n",
    "  stepi.append(i)\n",
    "  lossi.append(loss.log10().item())\n",
    "\n",
    "print(loss.item())\n",
    "plt.plot(stepi, lossi)\n",
    "# observations:\n",
    "# batch size from 30 to X.shape[0], the resulting loss of 100 iters is basically the same, around 10"
   ]
  },
  {
   "cell_type": "code",
   "execution_count": null,
   "metadata": {},
   "outputs": [
    {
     "name": "stdout",
     "output_type": "stream",
     "text": [
      "2.7226805686950684\n"
     ]
    },
    {
     "data": {
      "text/plain": [
       "[<matplotlib.lines.Line2D at 0x134c45220>]"
      ]
     },
     "execution_count": 982,
     "metadata": {},
     "output_type": "execute_result"
    },
    {
     "data": {
      "image/png": "[encoded data removed]",
      "text/plain": [
       "<Figure size 640x480 with 1 Axes>"
      ]
     },
     "metadata": {},
     "output_type": "display_data"
    }
   ],
   "source": [
    "# experimenting with different random param inits\n",
    "\n",
    "nn = 300 # number of neurons\n",
    "# params init\n",
    "C = torch.rand((num_chars, 10)) # what is the requirement for the embedding? AN: there is none, the init value doesn't matter\n",
    "W1 = torch.rand((30, nn)) # remember: the first element in size tuple represents the input size/dimension, meaning viewed as a matrix, each column contains the list of weights for a neuron\n",
    "b1 = torch.rand(nn)\n",
    "W2 = torch.rand((nn, num_chars))\n",
    "b2 = torch.rand(num_chars)\n",
    "params = [C, W1, b1, W2, b2]\n",
    "for p in params:\n",
    "  p.requires_grad = True\n",
    "\n",
    "stepi = []\n",
    "lossi = []\n",
    "\n",
    "batch_size = 128\n",
    "for i in range(200000):\n",
    "  # minibatch construct\n",
    "  ix = torch.randint(0, Xtr.shape[0], (batch_size,))\n",
    "  # forward pass\n",
    "  emb = C[Xtr[ix]]\n",
    "  h = torch.tanh(emb.view(-1, 30) @ W1 + b1)\n",
    "  logits = h @ W2 + b2\n",
    "  loss = F.cross_entropy(logits, Ytr[ix])\n",
    "  # backward pass\n",
    "  for p in params: # note: this reset (to None, not 0) happens before loss.backward()\n",
    "    p.grad = None\n",
    "  loss.backward()\n",
    "  # update\n",
    "  learning_rate = 0.1 if i < 100000 else 0.01\n",
    "  for p in params:\n",
    "    p.data += -learning_rate * p.grad\n",
    "  \n",
    "  # tracking stats\n",
    "  stepi.append(i)\n",
    "  lossi.append(loss.item())\n",
    "\n",
    "print(loss.item())\n",
    "plt.plot(stepi, lossi)\n",
    "# observations:\n",
    "# batch size from 30 to X.shape[0], the resulting loss of 100 iters is basically the same, around 10"
   ]
  },
  {
   "cell_type": "code",
   "execution_count": null,
   "metadata": {},
   "outputs": [
    {
     "name": "stdout",
     "output_type": "stream",
     "text": [
      "2.149010419845581\n"
     ]
    },
    {
     "data": {
      "text/plain": [
       "[<matplotlib.lines.Line2D at 0x1375def60>]"
      ]
     },
     "execution_count": 996,
     "metadata": {},
     "output_type": "execute_result"
    },
    {
     "data": {
      "image/png": "[encoded data removed]",
      "text/plain": [
       "<Figure size 640x480 with 1 Axes>"
      ]
     },
     "metadata": {},
     "output_type": "display_data"
    }
   ],
   "source": [
    "# experimenting with different random param inits\n",
    "\n",
    "nn = 300 # number of neurons\n",
    "# params init\n",
    "C = -2 + 4 * torch.rand((num_chars, 10)) # what is the requirement for the embedding? AN: there is none, the init value doesn't matter\n",
    "W1 = -2 + 4 * torch.rand((30, nn)) # remember: the first element in size tuple represents the input size/dimension, meaning viewed as a matrix, each column contains the list of weights for a neuron\n",
    "b1 = -2 + 4 * torch.rand(nn)\n",
    "W2 = -2 + 4 * torch.rand((nn, num_chars))\n",
    "b2 = -2 + 4 * torch.rand(num_chars)\n",
    "params = [C, W1, b1, W2, b2]\n",
    "for p in params:\n",
    "  p.requires_grad = True\n",
    "\n",
    "stepi = []\n",
    "lossi = []\n",
    "\n",
    "batch_size = 128\n",
    "for i in range(200000):\n",
    "  # minibatch construct\n",
    "  ix = torch.randint(0, Xtr.shape[0], (batch_size,))\n",
    "  # forward pass\n",
    "  emb = C[Xtr[ix]]\n",
    "  h = torch.tanh(emb.view(-1, 30) @ W1 + b1)\n",
    "  logits = h @ W2 + b2\n",
    "  loss = F.cross_entropy(logits, Ytr[ix])\n",
    "  # backward pass\n",
    "  for p in params: # note: this reset (to None, not 0) happens before loss.backward()\n",
    "    p.grad = None\n",
    "  loss.backward()\n",
    "  # update\n",
    "  learning_rate = 0.1 if i < 100000 else 0.01\n",
    "  for p in params:\n",
    "    p.data += -learning_rate * p.grad\n",
    "  \n",
    "  # tracking stats\n",
    "  stepi.append(i)\n",
    "  lossi.append(loss.log10().item())\n",
    "\n",
    "print(loss.item())\n",
    "plt.plot(stepi, lossi)\n",
    "# observations:\n",
    "# batch size from 30 to X.shape[0], the resulting loss of 100 iters is basically the same, around 10"
   ]
  },
  {
   "cell_type": "code",
   "execution_count": null,
   "metadata": {},
   "outputs": [
    {
     "data": {
      "text/plain": [
       "(tensor([[ 0.1675, -0.5060, -0.1322,  0.9428,  0.4644,  0.4057, -0.7174,  0.0785,\n",
       "          -0.1900, -0.4439],\n",
       "         [-0.1940, -0.4904,  0.1914,  0.2994,  0.0613, -0.3122,  0.1715,  0.7307,\n",
       "          -0.1039,  0.0082],\n",
       "         [ 0.3114, -0.0467,  0.3851,  0.0918,  0.2841, -0.2495,  0.0095,  0.3575,\n",
       "          -0.2427, -0.3704],\n",
       "         [-0.4132, -0.5023,  0.5627, -0.6299, -0.3167,  0.4355,  0.6857, -0.9302,\n",
       "          -0.2165,  0.5279],\n",
       "         [ 0.2261,  0.1118,  0.2639, -0.0120,  0.4107, -0.0833, -0.1982,  0.2304,\n",
       "          -0.1029, -0.1932],\n",
       "         [-0.1154,  0.3286, -0.1469,  0.1248,  0.5251, -0.3555,  0.3892, -0.0022,\n",
       "           0.4190,  0.3825],\n",
       "         [-0.2654, -0.1038, -0.0458,  0.1250, -0.1199, -0.1982,  0.0282,  0.2076,\n",
       "          -0.0854,  0.0245],\n",
       "         [-0.2445, -0.0991, -0.2891,  0.0589, -0.1075, -0.0177, -0.0275,  0.3211,\n",
       "          -0.1363, -0.0101],\n",
       "         [-0.1900, -0.0426, -0.4606,  0.2720, -0.0711, -0.0484,  0.1932,  0.0574,\n",
       "           0.1916, -0.0166],\n",
       "         [ 0.1559,  0.2195, -0.2131,  0.4624, -0.4182,  0.3255,  0.4479,  0.2852,\n",
       "           0.6580,  0.0110],\n",
       "         [-0.1483,  0.0951, -0.4232, -0.0167, -0.2364,  0.3011, -0.0582,  0.1606,\n",
       "           0.2308, -0.0037],\n",
       "         [-0.2156,  0.3422, -0.3231,  0.0415,  0.4193, -0.3663,  0.0122,  0.0234,\n",
       "           0.1049, -0.0875],\n",
       "         [-0.4919, -0.5090,  0.6312,  0.2563,  0.6727,  0.2454,  0.0782, -0.5767,\n",
       "           0.6480, -0.6085],\n",
       "         [ 0.1001, -0.1125, -0.3782,  0.5694,  0.3310,  0.1107, -0.0563, -0.3385,\n",
       "           0.3824,  0.0163],\n",
       "         [ 0.2254, -0.0621, -0.1208,  0.2742, -0.2495,  0.4105, -0.0217,  0.0981,\n",
       "           0.5137,  0.0465],\n",
       "         [-0.3295, -0.1857,  0.0672, -0.0666,  0.2943, -0.0952,  0.1882,  0.2411,\n",
       "          -0.1828,  0.4575],\n",
       "         [-0.1373,  0.0874,  0.2358,  0.3165,  0.1376, -0.2289,  0.3408, -0.3241,\n",
       "          -0.3439,  0.0839],\n",
       "         [-0.1058, -0.0884,  0.3471, -0.2631, -0.1895,  0.6432, -0.0081,  0.3365,\n",
       "          -0.1830, -0.3352],\n",
       "         [-0.1441,  0.5168, -0.2642, -0.0263,  0.3707, -0.4994, -0.0313,  0.0358,\n",
       "           0.2376,  0.1918],\n",
       "         [ 0.0406,  0.0099,  0.4271,  0.3866,  0.0287, -0.3180,  0.4462, -0.3662,\n",
       "          -0.0652,  0.1411],\n",
       "         [-0.1965,  0.2903, -0.2619,  0.0403,  0.1580, -0.3204,  0.1885,  0.0892,\n",
       "           0.0179, -0.0696],\n",
       "         [ 0.1939, -0.1256,  0.0427,  0.4840, -0.0440, -0.1567,  0.4407,  0.2440,\n",
       "           0.4364, -0.0500],\n",
       "         [ 0.0138, -0.0376, -0.2212,  0.2221, -0.2387, -0.0578, -0.0639,  0.0527,\n",
       "          -0.0286,  0.0334],\n",
       "         [-0.0203, -0.0885,  0.2009,  0.1135,  0.2203, -0.2631, -0.0603,  0.0093,\n",
       "           0.0206, -0.0249],\n",
       "         [ 0.0896,  0.1046, -0.1404,  0.3124, -0.1578,  0.0051,  0.2608, -0.0792,\n",
       "           0.2645,  0.2079],\n",
       "         [-0.4165,  0.0185, -0.2391,  0.0515,  0.4473, -0.3235, -0.0447, -0.1251,\n",
       "           0.0531,  0.5136],\n",
       "         [ 0.2617, -0.2183,  0.3382, -0.1421,  0.3053, -0.1146, -0.1472,  0.2554,\n",
       "           0.0160, -0.2421]], requires_grad=True),\n",
       " tensor([[-0.4758,  1.2689, -0.3397,  ...,  0.5595, -1.3384, -0.0501],\n",
       "         [-0.4251,  0.6277, -0.2006,  ...,  0.4047, -1.1474, -0.6240],\n",
       "         [-0.9683,  0.2745, -0.8954,  ...,  0.8306, -0.5592, -0.1492],\n",
       "         ...,\n",
       "         [-0.9754,  0.1962,  0.2422,  ...,  0.1156, -1.1682, -0.7239],\n",
       "         [-1.8812, -1.7271,  1.1113,  ...,  1.6826,  0.5358, -1.2858],\n",
       "         [ 0.1876,  1.5651, -1.6099,  ...,  0.5748, -0.2048, -0.6995]],\n",
       "        requires_grad=True),\n",
       " tensor([[ 0.6482, -0.5021,  0.1525,  ...,  1.2459, -0.9381,  1.9257],\n",
       "         [-0.0166,  0.0459, -1.0594,  ..., -0.3705,  0.3038, -0.1727],\n",
       "         [ 0.4858,  0.5677,  0.6520,  ..., -0.0694,  0.2774,  0.0367],\n",
       "         ...,\n",
       "         [ 0.0898, -0.1332, -0.0951,  ...,  0.0183,  0.0401,  0.8899],\n",
       "         [ 0.1564,  0.8136,  0.0354,  ...,  0.3591,  0.4313,  0.5692],\n",
       "         [ 0.3719,  0.8004, -0.0585,  ...,  0.6312,  0.9060,  0.0375]],\n",
       "        requires_grad=True),\n",
       " tensor([     1.2088,      1.1090,      0.3895,     -0.6204,     -1.1590,\n",
       "              0.5107,     -1.1632,      0.9855,     -1.3025,      0.9030,\n",
       "              0.3853,     -0.9507,      0.6167,     -0.4328,     -0.4424,\n",
       "             -0.7662,      0.4154,     -0.6046,     -0.7213,     -0.0844,\n",
       "              1.1955,     -0.9334,     -0.5121,     -0.5542,      0.8151,\n",
       "             -0.4918,      0.8679,      1.2357,      0.6927,     -1.3349,\n",
       "             -1.4188,     -0.9030,      0.2225,      0.5742,      1.0533,\n",
       "              0.0256,     -0.8036,      0.9383,      0.3133,      0.5874,\n",
       "              1.0650,      0.3905,     -0.5399,     -1.4616,     -0.5999,\n",
       "             -0.7704,     -0.8286,     -0.9740,      0.0610,      0.9094,\n",
       "              1.3781,      1.5235,     -0.8291,      0.8825,     -0.4959,\n",
       "              1.0570,     -0.7096,      1.6346,     -0.0987,      0.4506,\n",
       "             -0.1560,      0.4885,     -0.9083,     -0.6250,     -0.0083,\n",
       "             -0.7978,      0.6285,      0.4678,      0.2250,      0.3760,\n",
       "              0.7057,      0.9660,      0.3254,      0.7483,      0.3810,\n",
       "              0.2764,     -0.1906,      0.7201,     -0.7980,      0.8246,\n",
       "             -0.2684,     -1.4355,      0.8079,      1.0112,     -0.8040,\n",
       "              0.8282,     -0.7668,      0.0274,     -0.1712,     -0.1625,\n",
       "              0.4949,      0.0639,     -0.0328,      0.8099,      1.0513,\n",
       "             -0.4693,     -0.2764,      0.1633,     -0.7119,      1.2602,\n",
       "              0.6689,     -0.9939,     -0.3852,     -0.7849,     -0.0107,\n",
       "              0.3876,     -0.8526,      0.2639,      0.0400,     -0.8295,\n",
       "              0.7910,     -0.1222,      1.6529,      0.6206,     -0.9935,\n",
       "              0.5161,      0.4867,     -1.0765,     -0.2840,     -0.6958,\n",
       "             -0.5908,     -1.2045,      0.6517,     -0.1279,     -0.2692,\n",
       "             -0.3813,     -0.0846,      1.1755,      0.4222,     -0.4870,\n",
       "             -0.7202,     -0.1956,      0.6466,     -0.6594,      0.1364,\n",
       "             -0.3911,     -1.1691,      0.2647,     -0.8797,      0.6382,\n",
       "             -0.0975,      0.3271,      0.6574,      1.0634,      1.4988,\n",
       "             -0.2067,      0.4095,      0.8186,     -1.0240,      0.9938,\n",
       "             -0.8708,     -0.4979,      0.9092,     -1.0022,      0.1618,\n",
       "             -0.2574,     -0.8089,     -0.6544,      1.3092,      1.1951,\n",
       "             -0.9583,      0.3400,      0.2715,     -0.6277,     -0.8344,\n",
       "              0.7190,      0.4229,     -1.0162,     -0.4927,     -0.2776,\n",
       "             -0.0072,      0.2563,      0.9909,     -1.3558,     -0.1589,\n",
       "             -1.3805,      1.1557,      0.5726,     -0.7258,      0.6980,\n",
       "             -0.2977,     -1.2900,      0.8624,     -0.4220,     -0.8044,\n",
       "             -1.1239,      0.4100,     -0.4370,     -0.8192,      0.8552,\n",
       "             -0.6610,      0.6591,     -1.1084,      1.1098,     -0.3795,\n",
       "              0.4734,      1.0431,     -0.1360,     -0.7164,      0.1891,\n",
       "              0.2043,     -0.0495,     -0.0010,     -0.4500,      0.4413,\n",
       "              0.9891,      0.2244,      0.5635,      1.9199,     -0.7843,\n",
       "             -0.9168,     -0.2788,     -0.3768,     -0.0660,     -1.1317,\n",
       "             -0.7106,      0.1736,     -0.5983,     -0.3949,     -0.4353,\n",
       "             -0.5084,     -0.6725,     -0.3137,     -0.0064,     -0.8065,\n",
       "             -0.9157,     -0.0654,      0.0908,      0.2308,     -0.3053,\n",
       "             -0.3007,      1.0026,      1.3115,      0.0732,     -1.2548,\n",
       "              0.4108,     -1.1186,      0.2688,      0.8186,     -0.0181,\n",
       "             -0.0540,     -0.1372,     -0.5249,      0.3916,     -0.8424,\n",
       "             -0.8573,     -1.2884,     -0.7706,      0.0429,     -0.7024,\n",
       "              0.1852,      0.1649,      0.1275,      0.8328,     -0.1224,\n",
       "             -0.3675,     -0.2799,      1.3220,     -0.8994,      0.1090,\n",
       "              0.7716,     -1.0386,     -0.6030,      0.3546,      0.9099,\n",
       "             -0.6542,     -0.1775,     -0.1882,      0.3634,      0.7035,\n",
       "             -0.3403,      0.3245,     -0.0108,      0.2334,     -0.5064,\n",
       "             -0.5122,     -1.0553,     -0.0532,     -0.5563,     -0.1696,\n",
       "              1.7570,     -0.2068,     -0.5971,      0.4059,      0.4305,\n",
       "              1.6274,     -0.1694,     -0.0023,     -0.7577,     -0.6113,\n",
       "             -0.2079,      1.0365,     -0.1988,     -0.0648,     -0.5760,\n",
       "              0.7889,      0.8988,     -0.4207,      1.0390,     -0.0711],\n",
       "        requires_grad=True),\n",
       " tensor([ 1.4089,  1.5845,  0.7212,  0.2837, -2.1317,  1.3609, -1.9953, -0.8715,\n",
       "         -0.0696,  1.0781, -1.5969, -0.9457, -0.4813, -1.8078, -0.7254, -0.5432,\n",
       "          0.9749, -0.7279,  1.7067,  0.9236, -1.2636, -0.4268, -1.2824,  0.5500,\n",
       "         -0.6836, -0.9098,  1.0285], requires_grad=True))"
      ]
     },
     "execution_count": 997,
     "metadata": {},
     "output_type": "execute_result"
    }
   ],
   "source": [
    "C, W1, W2, b1, b2"
   ]
  },
  {
   "cell_type": "code",
   "execution_count": null,
   "metadata": {},
   "outputs": [
    {
     "name": "stdout",
     "output_type": "stream",
     "text": [
      "2.8911519050598145\n"
     ]
    },
    {
     "data": {
      "text/plain": [
       "[<matplotlib.lines.Line2D at 0x134e8dbe0>]"
      ]
     },
     "execution_count": 988,
     "metadata": {},
     "output_type": "execute_result"
    },
    {
     "data": {
      "image/png": "[encoded data removed]",
      "text/plain": [
       "<Figure size 640x480 with 1 Axes>"
      ]
     },
     "metadata": {},
     "output_type": "display_data"
    }
   ],
   "source": [
    "# experimenting with different random param inits\n",
    "\n",
    "nn = 300 # number of neurons\n",
    "# params init\n",
    "C = 4 * torch.rand((num_chars, 10)) # what is the requirement for the embedding? AN: there is none, the init value doesn't matter\n",
    "W1 = 4 * torch.rand((30, nn)) # remember: the first element in size tuple represents the input size/dimension, meaning viewed as a matrix, each column contains the list of weights for a neuron\n",
    "b1 = 4 * torch.rand(nn)\n",
    "W2 = 4 * torch.rand((nn, num_chars))\n",
    "b2 = 4 * torch.rand(num_chars)\n",
    "params = [C, W1, b1, W2, b2]\n",
    "for p in params:\n",
    "  p.requires_grad = True\n",
    "\n",
    "stepi = []\n",
    "lossi = []\n",
    "\n",
    "batch_size = 128\n",
    "for i in range(200000):\n",
    "  # minibatch construct\n",
    "  ix = torch.randint(0, Xtr.shape[0], (batch_size,))\n",
    "  # forward pass\n",
    "  emb = C[Xtr[ix]]\n",
    "  h = torch.tanh(emb.view(-1, 30) @ W1 + b1)\n",
    "  logits = h @ W2 + b2\n",
    "  loss = F.cross_entropy(logits, Ytr[ix])\n",
    "  # backward pass\n",
    "  for p in params: # note: this reset (to None, not 0) happens before loss.backward()\n",
    "    p.grad = None\n",
    "  loss.backward()\n",
    "  # update\n",
    "  learning_rate = 0.1 if i < 100000 else 0.01\n",
    "  for p in params:\n",
    "    p.data += -learning_rate * p.grad\n",
    "  \n",
    "  # tracking stats\n",
    "  stepi.append(i)\n",
    "  lossi.append(loss.log10().item())\n",
    "\n",
    "print(loss.item())\n",
    "plt.plot(stepi, lossi)\n",
    "# observations:\n",
    "# batch size from 30 to X.shape[0], the resulting loss of 100 iters is basically the same, around 10"
   ]
  },
  {
   "cell_type": "code",
   "execution_count": null,
   "metadata": {},
   "outputs": [
    {
     "name": "stdout",
     "output_type": "stream",
     "text": [
      "2.715059995651245\n",
      "tensor([0.9461, 1.0423, 1.0329, 1.0295, 1.0209, 1.0472, 0.9009, 0.9478, 1.0251,\n",
      "        1.0132, 1.0625, 0.9597, 0.9382, 0.9160, 0.9383, 1.0826, 0.8989, 0.9288,\n",
      "        1.0058, 0.9196, 1.0853, 0.9308, 0.9949, 1.0612, 1.0198, 1.0071, 0.9370],\n",
      "       requires_grad=True)\n"
     ]
    },
    {
     "data": {
      "image/png": "[encoded data removed]",
      "text/plain": [
       "<Figure size 640x480 with 1 Axes>"
      ]
     },
     "metadata": {},
     "output_type": "display_data"
    }
   ],
   "source": [
    "# experimenting with different random param inits\n",
    "\n",
    "nn = 300 # number of neurons\n",
    "# params init\n",
    "C = 0.9 + 0.2 * torch.rand((num_chars, 10)) # what is the requirement for the embedding? AN: there is none, the init value doesn't matter\n",
    "W1 = 0.9 + 0.2 * torch.rand((30, nn)) # remember: the first element in size tuple represents the input size/dimension, meaning viewed as a matrix, each column contains the list of weights for a neuron\n",
    "b1 = 0.9 + 0.2 * torch.rand(nn)\n",
    "W2 = 0.9 + 0.2 * torch.rand((nn, num_chars))\n",
    "b2 = 0.9 + 0.2 * torch.rand(num_chars)\n",
    "params = [C, W1, b1, W2, b2]\n",
    "for p in params:\n",
    "  p.requires_grad = True\n",
    "\n",
    "stepi = []\n",
    "lossi = []\n",
    "\n",
    "batch_size = 128\n",
    "for i in range(200000):\n",
    "  # minibatch construct\n",
    "  ix = torch.randint(0, Xtr.shape[0], (batch_size,))\n",
    "  # forward pass\n",
    "  emb = C[Xtr[ix]]\n",
    "  h = torch.tanh(emb.view(-1, 30) @ W1 + b1)\n",
    "  logits = h @ W2 + b2\n",
    "  loss = F.cross_entropy(logits, Ytr[ix])\n",
    "  # backward pass\n",
    "  for p in params: # note: this reset (to None, not 0) happens before loss.backward()\n",
    "    p.grad = None\n",
    "  loss.backward()\n",
    "  # update\n",
    "  learning_rate = 0.1 if i < 100000 else 0.01\n",
    "  for p in params:\n",
    "    p.data += -learning_rate * p.grad\n",
    "  \n",
    "  # tracking stats\n",
    "  stepi.append(i)\n",
    "  lossi.append(loss.log10().item())\n",
    "\n",
    "print(loss.item())\n",
    "plt.plot(stepi, lossi)\n",
    "print(b2)\n",
    "# observations:\n",
    "# batch size from 30 to X.shape[0], the resulting loss of 100 iters is basically the same, around 10"
   ]
  },
  {
   "cell_type": "code",
   "execution_count": null,
   "metadata": {},
   "outputs": [
    {
     "data": {
      "text/plain": [
       "(tensor([[1.0240, 0.9496, 0.9786, 0.9308, 0.9871, 0.9665, 1.0580, 1.0618, 0.9417,\n",
       "          1.0603],\n",
       "         [1.0733, 0.9495, 0.9551, 1.0030, 0.9998, 0.9699, 1.0925, 0.9447, 1.0475,\n",
       "          0.9374],\n",
       "         [1.0075, 0.9837, 1.0181, 1.0591, 0.9595, 0.9897, 1.0208, 0.9355, 0.9500,\n",
       "          0.9264],\n",
       "         [1.0637, 1.0600, 0.9772, 1.0391, 0.9167, 1.0715, 1.0491, 1.0970, 1.0457,\n",
       "          0.9302],\n",
       "         [1.0331, 1.0260, 1.0867, 0.9819, 1.0619, 1.0375, 1.0411, 0.9647, 1.0057,\n",
       "          1.0937],\n",
       "         [0.9942, 0.9246, 1.0128, 1.0649, 0.9694, 1.0839, 1.0563, 1.0710, 0.9614,\n",
       "          0.9958],\n",
       "         [1.0659, 1.0153, 1.0665, 0.9676, 1.0335, 0.9156, 0.9492, 0.9534, 1.0365,\n",
       "          0.9993],\n",
       "         [0.9716, 0.9547, 0.9685, 0.9326, 0.9310, 0.9816, 1.0293, 1.0080, 1.0497,\n",
       "          1.0495],\n",
       "         [0.9224, 1.0236, 1.0966, 1.0143, 1.0597, 0.9384, 0.9836, 0.9551, 0.9322,\n",
       "          1.0079],\n",
       "         [1.0385, 1.0059, 0.9945, 1.0035, 0.9568, 0.9874, 1.0807, 1.0121, 1.0407,\n",
       "          0.9853],\n",
       "         [0.9984, 1.0431, 1.0255, 0.9284, 0.9949, 1.0342, 1.0437, 0.9939, 1.0716,\n",
       "          0.9303],\n",
       "         [1.0294, 1.0451, 0.9218, 0.9095, 1.0402, 1.0106, 1.0159, 1.0678, 0.9895,\n",
       "          0.9159],\n",
       "         [1.0422, 1.0368, 1.0585, 0.9699, 1.0264, 1.0139, 1.0555, 0.9614, 1.0875,\n",
       "          0.9946],\n",
       "         [1.0675, 1.0191, 1.0193, 1.0101, 0.9477, 0.9366, 1.0463, 1.0935, 1.0900,\n",
       "          0.9680],\n",
       "         [0.9608, 1.0267, 0.9802, 1.0741, 0.9009, 1.0817, 0.9540, 1.0861, 0.9084,\n",
       "          0.9603],\n",
       "         [0.9577, 1.0092, 1.0326, 1.0803, 1.0439, 0.9243, 1.0974, 1.0794, 1.0516,\n",
       "          0.9630],\n",
       "         [0.9954, 0.9643, 1.0889, 0.9294, 1.0194, 1.0830, 1.0681, 1.0124, 1.0192,\n",
       "          0.9912],\n",
       "         [1.0178, 1.0926, 0.9700, 0.9941, 0.9930, 0.9739, 1.0827, 1.0331, 0.9872,\n",
       "          0.9646],\n",
       "         [0.9629, 0.9849, 0.9595, 0.9686, 1.0127, 0.9357, 0.9051, 1.0724, 0.9280,\n",
       "          1.0580],\n",
       "         [1.0953, 0.9804, 1.0225, 0.9980, 0.9665, 1.0091, 1.0399, 1.0438, 0.9872,\n",
       "          1.0945],\n",
       "         [1.0877, 1.0647, 0.9383, 1.0655, 0.9257, 0.9743, 1.0418, 1.0221, 1.0570,\n",
       "          1.0808],\n",
       "         [1.0168, 0.9281, 1.0490, 1.0448, 0.9667, 0.9017, 0.9760, 0.9688, 1.0543,\n",
       "          0.9180],\n",
       "         [1.0488, 0.9616, 1.0155, 1.0019, 1.0799, 0.9841, 1.0036, 1.0472, 1.0120,\n",
       "          0.9077],\n",
       "         [1.0380, 0.9423, 0.9500, 0.9550, 0.9582, 0.9433, 1.0969, 1.0505, 0.9541,\n",
       "          1.0462],\n",
       "         [0.9968, 0.9865, 1.0822, 0.9902, 0.9220, 1.0588, 0.9668, 0.9872, 1.0718,\n",
       "          1.0480],\n",
       "         [0.9275, 0.9616, 1.0932, 0.9208, 1.0600, 0.9005, 0.9245, 1.0742, 1.0257,\n",
       "          0.9589],\n",
       "         [1.0488, 1.0418, 1.0818, 1.0506, 1.0255, 0.9358, 0.9961, 0.9263, 0.9953,\n",
       "          1.0057]], requires_grad=True),\n",
       " tensor([[1.0501, 1.0238, 0.9192,  ..., 1.0607, 1.0052, 1.0975],\n",
       "         [1.0509, 1.0921, 1.0765,  ..., 0.9058, 1.0579, 1.0255],\n",
       "         [1.0227, 0.9997, 1.0502,  ..., 0.9177, 1.0892, 0.9738],\n",
       "         ...,\n",
       "         [0.9023, 1.0825, 0.9889,  ..., 1.0501, 1.0746, 1.0054],\n",
       "         [0.9765, 1.0377, 0.9188,  ..., 1.0685, 0.9421, 1.0723],\n",
       "         [1.0980, 1.0039, 0.9365,  ..., 1.0154, 1.0113, 1.0428]],\n",
       "        requires_grad=True),\n",
       " tensor([[1.0427, 0.9648, 0.9332,  ..., 0.9310, 0.9522, 0.9088],\n",
       "         [0.9713, 0.9351, 0.9238,  ..., 0.9548, 0.9537, 0.9682],\n",
       "         [0.9368, 0.9286, 1.0318,  ..., 0.9683, 0.9201, 0.8972],\n",
       "         ...,\n",
       "         [0.9150, 1.0301, 1.0530,  ..., 1.0286, 0.9088, 1.0465],\n",
       "         [1.0661, 1.0402, 0.9198,  ..., 0.9207, 0.9580, 1.0870],\n",
       "         [0.9397, 1.0070, 1.0187,  ..., 0.9569, 0.9207, 0.9724]],\n",
       "        requires_grad=True),\n",
       " tensor([1.0945, 1.0898, 1.0040, 1.0078, 1.0284, 1.0330, 0.9799, 1.0184, 0.9289,\n",
       "         1.0451, 1.0691, 1.0567, 1.0902, 1.0587, 1.0640, 1.0396, 0.9261, 1.0602,\n",
       "         1.0960, 0.9986, 0.9033, 0.9460, 0.9463, 0.9521, 0.9967, 0.9355, 0.9035,\n",
       "         1.0956, 0.9483, 1.0516, 1.0989, 1.0914, 0.9383, 1.0601, 1.0559, 1.0356,\n",
       "         0.9285, 1.0062, 0.9208, 0.9766, 1.0002, 1.0948, 1.0918, 1.0548, 1.0913,\n",
       "         0.9163, 0.9887, 1.0034, 1.0520, 0.9799, 0.9918, 1.0963, 1.0971, 0.9636,\n",
       "         1.0066, 0.9902, 1.0723, 1.0508, 1.0120, 0.9229, 1.0726, 1.0157, 1.0096,\n",
       "         1.0253, 1.0999, 0.9351, 0.9145, 0.9791, 1.0297, 1.0240, 1.0019, 1.0834,\n",
       "         0.9137, 0.9431, 0.9356, 0.9673, 0.9795, 0.9543, 1.0047, 1.0381, 1.0269,\n",
       "         0.9929, 1.0707, 0.9149, 0.9461, 1.0728, 0.9975, 1.0449, 1.0484, 0.9224,\n",
       "         0.9660, 1.0213, 0.9447, 1.0555, 0.9049, 1.0065, 1.0250, 0.9404, 0.9896,\n",
       "         1.0883, 1.0096, 0.9668, 0.9821, 1.0791, 0.9209, 0.9482, 0.9539, 1.0730,\n",
       "         0.9502, 0.9603, 1.0312, 1.0345, 0.9730, 1.0308, 1.0039, 0.9012, 1.0598,\n",
       "         1.0649, 0.9708, 1.0702, 0.9934, 1.0773, 1.0114, 0.9015, 0.9460, 1.0163,\n",
       "         0.9018, 1.0395, 0.9051, 1.0228, 1.0740, 1.0622, 1.0086, 0.9498, 1.0931,\n",
       "         1.0178, 0.9171, 1.0063, 1.0418, 0.9567, 1.0606, 1.0600, 1.0610, 1.0448,\n",
       "         1.0685, 0.9120, 0.9826, 0.9286, 1.0307, 0.9599, 0.9653, 0.9111, 1.0226,\n",
       "         0.9827, 1.0267, 0.9428, 1.0435, 1.0048, 1.0115, 1.0928, 0.9698, 1.0540,\n",
       "         1.0152, 1.0432, 1.0234, 0.9783, 0.9941, 0.9823, 0.9728, 0.9011, 1.0784,\n",
       "         1.0508, 1.0829, 1.0607, 0.9072, 0.9299, 0.9571, 1.0745, 1.0794, 0.9935,\n",
       "         1.0228, 1.0184, 1.0151, 1.0939, 0.9210, 1.0794, 0.9471, 1.0485, 0.9535,\n",
       "         0.9314, 0.9519, 0.9725, 0.9383, 0.9321, 1.0612, 0.9092, 1.0409, 0.9439,\n",
       "         0.9440, 1.0191, 0.9816, 1.0685, 0.9259, 1.0966, 0.9721, 0.9021, 0.9212,\n",
       "         0.9402, 1.0168, 1.0190, 0.9177, 1.0097, 0.9406, 0.9211, 0.9689, 1.0730,\n",
       "         1.0103, 1.0195, 1.0103, 1.0364, 1.0940, 1.0856, 0.9054, 0.9863, 1.0703,\n",
       "         1.0804, 1.0403, 0.9828, 1.0641, 1.0987, 1.0993, 0.9061, 0.9436, 1.0047,\n",
       "         0.9771, 0.9842, 1.0577, 0.9693, 0.9294, 1.0737, 1.0982, 0.9065, 0.9915,\n",
       "         0.9646, 1.0683, 0.9280, 1.0352, 0.9266, 0.9507, 1.0297, 0.9904, 0.9271,\n",
       "         1.0002, 1.0329, 1.0712, 1.0872, 1.0523, 0.9560, 0.9508, 0.9368, 1.0238,\n",
       "         0.9839, 0.9827, 1.0752, 1.0049, 0.9099, 1.0317, 0.9968, 1.0940, 0.9550,\n",
       "         1.0989, 0.9193, 1.0558, 0.9513, 1.0056, 1.0721, 0.9171, 1.0382, 1.0971,\n",
       "         1.0864, 0.9064, 1.0624, 0.9408, 1.0361, 1.0603, 1.0619, 1.0425, 1.0647,\n",
       "         1.0590, 0.9774, 0.9872, 1.0638, 0.9657, 1.0622, 1.0977, 0.9743, 1.0787,\n",
       "         1.0717, 1.0576, 1.0425], requires_grad=True),\n",
       " tensor([0.9461, 1.0423, 1.0329, 1.0295, 1.0209, 1.0472, 0.9009, 0.9478, 1.0251,\n",
       "         1.0132, 1.0625, 0.9597, 0.9382, 0.9160, 0.9383, 1.0826, 0.8989, 0.9288,\n",
       "         1.0058, 0.9196, 1.0853, 0.9308, 0.9949, 1.0612, 1.0198, 1.0071, 0.9370],\n",
       "        requires_grad=True))"
      ]
     },
     "execution_count": 994,
     "metadata": {},
     "output_type": "execute_result"
    }
   ],
   "source": [
    "C, W1, W2, b1, b2"
   ]
  },
  {
   "cell_type": "code",
   "execution_count": null,
   "metadata": {},
   "outputs": [
    {
     "name": "stdout",
     "output_type": "stream",
     "text": [
      "1.9880621433258057\n"
     ]
    },
    {
     "data": {
      "text/plain": [
       "(tensor([[ 0.6882,  0.1881,  0.3636, -1.0062, -0.3750, -0.6794,  0.3238,  0.1521,\n",
       "          -0.6564,  0.1144],\n",
       "         [-1.7019,  0.2905, -2.7774, -0.7554, -0.3245,  0.5470,  0.3174,  0.3259,\n",
       "          -0.1350,  0.9852],\n",
       "         [-0.8515,  1.9514,  1.4865,  2.3384,  0.3481, -1.4195, -0.9726, -0.0133,\n",
       "          -0.7112,  1.4334],\n",
       "         [ 1.8773, -1.4709, -0.3230,  0.3231,  3.0887,  0.7612, -0.4575,  0.9641,\n",
       "          -1.4590,  1.4359],\n",
       "         [-0.6051,  0.4514,  0.9090,  0.6603, -0.2036, -0.5736, -1.1507,  1.8102,\n",
       "           1.0366,  0.2462],\n",
       "         [-0.9143,  0.5255, -0.9504,  1.5763, -0.4138,  0.9671, -1.0301, -0.1950,\n",
       "          -2.4145, -0.7879],\n",
       "         [-0.3972,  1.4420,  0.8332, -0.1945,  1.1878, -0.7898,  0.1370, -0.0933,\n",
       "           0.2578,  1.0663],\n",
       "         [-1.2276, -1.0382,  0.9349,  0.8749,  1.4418, -2.5623,  0.7849,  1.0889,\n",
       "           0.9482,  1.2283],\n",
       "         [-1.1015,  0.7156,  0.7328, -0.7577,  0.5988,  2.7085,  0.8473, -2.1047,\n",
       "          -0.6734,  0.5566],\n",
       "         [ 1.2143, -0.2115, -0.3510,  1.0590,  0.1857,  0.1791, -2.2299, -0.4476,\n",
       "          -0.3019, -2.6694],\n",
       "         [ 1.5486,  0.3670,  1.7325,  0.0842,  0.2422,  0.5496,  0.9341, -2.2189,\n",
       "           0.4681, -0.1759],\n",
       "         [ 0.3117,  0.5587,  0.6289,  0.5417,  1.0375,  1.9919,  0.4885,  0.6872,\n",
       "          -2.1709,  0.8178],\n",
       "         [-0.6905,  0.9955,  1.8923,  1.5225, -2.9716,  1.7685,  0.2584,  1.0387,\n",
       "           1.0438, -0.6923],\n",
       "         [-0.0841,  0.5250,  0.3912, -1.1294, -0.1676,  0.3858, -1.7262, -1.2252,\n",
       "           2.2904,  2.6569],\n",
       "         [ 3.1359,  1.3047, -2.1140,  0.5250, -0.0177,  0.2661, -0.8194, -0.3965,\n",
       "           1.7486,  0.7508],\n",
       "         [-1.9158,  1.6229, -1.4960,  0.5270,  1.6059, -1.8275,  1.3889, -0.7484,\n",
       "           1.2322, -1.7716],\n",
       "         [-0.4619,  0.2008,  1.8649, -0.4959,  2.8846, -0.6914, -0.0138,  1.4118,\n",
       "          -0.4220,  0.8993],\n",
       "         [-0.3838,  1.4889,  1.0917,  0.2129,  0.6768,  0.5705,  3.0861, -0.4277,\n",
       "           1.2730, -0.2015],\n",
       "         [ 1.2113, -1.9519, -0.4890,  2.4609, -1.4514, -0.1148,  1.8024, -0.5720,\n",
       "           0.3142,  1.1434],\n",
       "         [ 0.7931, -2.3048,  0.1923, -1.5330,  1.3348,  1.7396,  0.8558,  1.1467,\n",
       "           1.8336, -1.3060],\n",
       "         [-0.9915, -0.1232,  0.1968, -0.0434,  1.3239,  0.9141, -0.8237,  2.9136,\n",
       "           0.7476, -0.5277],\n",
       "         [-0.6646, -1.3121, -1.3159,  1.1053, -0.1591, -2.0013,  0.1057,  1.6245,\n",
       "           0.9285, -1.8491],\n",
       "         [-0.3099, -1.5729,  2.1158,  0.4724, -0.6568,  0.6735, -1.1549, -0.1290,\n",
       "           1.2938,  1.8902],\n",
       "         [-0.2794, -0.6448,  0.2053,  1.4769,  1.0635, -0.0147,  1.1562, -1.1244,\n",
       "          -0.6222,  1.3514],\n",
       "         [ 0.5656, -0.3260, -0.0123, -0.3777, -0.4199,  1.3869,  1.3059,  1.6299,\n",
       "           1.0360, -0.8377],\n",
       "         [ 0.4608,  0.5905,  0.9390,  0.1182,  0.4838,  0.3061, -0.5674, -3.0619,\n",
       "           1.3814, -2.4410],\n",
       "         [ 0.7006, -0.4471, -0.1245, -1.0367,  0.0607,  2.0297,  0.0876,  0.5558,\n",
       "           1.0808,  0.2965]], requires_grad=True),\n",
       " tensor([[ 0.1110,  0.1851,  0.5882,  ..., -0.2784,  0.2325,  0.1993],\n",
       "         [ 0.3078,  0.2012,  0.3371,  ...,  0.0095,  0.1847,  0.1980],\n",
       "         [-0.0705,  0.8984,  0.0398,  ..., -0.4096,  0.0327,  0.4178],\n",
       "         ...,\n",
       "         [ 0.3608,  0.1473,  0.3061,  ...,  0.3642,  0.3563, -0.2804],\n",
       "         [-0.0071,  0.4193,  0.2498,  ...,  0.4840, -0.0747,  0.9613],\n",
       "         [ 0.3353,  0.1553, -0.5930,  ...,  0.3876, -0.0041,  0.2506]],\n",
       "        requires_grad=True),\n",
       " tensor([[ 0.2896, -0.0879, -0.0232,  ...,  0.2187,  0.2491,  0.3909],\n",
       "         [ 0.3251,  0.3672,  0.3369,  ...,  0.2383,  0.2080,  0.1467],\n",
       "         [ 0.4763,  0.1448,  0.3028,  ...,  0.1819,  0.3919, -0.0452],\n",
       "         ...,\n",
       "         [ 0.1657,  0.2343,  0.1718,  ...,  0.6977, -0.3816,  0.3123],\n",
       "         [ 0.4124,  0.3544,  0.1281,  ...,  0.2387,  0.1662,  0.2583],\n",
       "         [ 0.0958,  0.2453, -0.0238,  ...,  0.2591,  0.6560,  0.1319]],\n",
       "        requires_grad=True),\n",
       " tensor([-0.1170,  0.1312,  0.0413,  0.3113, -0.0937,  1.5641,  0.1775,  0.4034,\n",
       "          0.3335,  0.6231,  0.4914,  0.4407, -0.2883,  0.5050,  0.3303,  0.4972,\n",
       "         -0.0835, -0.6683,  0.7127,  0.0921, -0.3018,  0.4877,  0.0198, -0.4606,\n",
       "         -0.0898,  0.1967,  0.5082,  0.3978, -0.0724,  0.8658,  0.1218,  0.0857,\n",
       "          0.0599,  0.1016, -0.5214,  0.2273,  0.1964, -0.1931, -0.2619,  0.6281,\n",
       "          0.9033,  0.2416,  0.1826,  0.5930,  0.3802, -0.2121,  0.3409,  0.9094,\n",
       "          0.3384,  0.1989,  0.1398,  0.0303, -0.6107,  0.7367, -0.1845, -0.0238,\n",
       "          0.3474,  0.9994,  0.4493,  0.1268,  0.0208,  0.1855,  0.4580,  0.4682,\n",
       "          0.8565, -0.1230,  0.2014,  0.4885,  0.0917,  0.7408, -0.0018,  0.0774,\n",
       "          0.5268, -0.0254,  0.2507,  0.6101, -0.9002,  0.0844, -0.0493, -0.0416,\n",
       "          0.3331,  0.4589,  0.1779,  0.2070,  0.1513,  0.5066, -0.1241,  0.1735,\n",
       "          0.2239, -0.2194,  0.5247,  0.5678,  0.3419,  0.8335,  0.0659,  0.5736,\n",
       "          0.3794,  0.2839,  0.0760,  0.3898,  0.4228,  0.0196,  0.4070, -0.0882,\n",
       "          0.2830,  0.2436,  0.4555, -0.3209,  0.1494,  0.0683, -0.0050,  0.7266,\n",
       "          0.0246,  0.4524,  0.5485,  0.0046,  0.6550,  0.0482,  1.7455,  0.5849,\n",
       "          0.3909, -0.0065,  0.6818,  0.2783,  0.1362,  0.3793, -0.2309,  0.3737,\n",
       "         -0.0657,  0.1303,  0.5822,  0.0711, -0.1998,  0.9492,  0.2741,  0.3912,\n",
       "         -0.3399,  0.0852,  0.7246, -0.0232,  0.2377, -0.3031,  0.2432,  0.1989,\n",
       "          0.5750,  0.8194, -0.4569,  0.3426,  0.4436,  0.2910,  0.1635,  0.1088,\n",
       "          0.4481,  0.2814, -0.7624,  0.1191,  0.4916,  0.2393,  0.0789,  0.2349,\n",
       "          0.2230,  0.2504, -0.0357,  0.2507,  0.4633, -0.2780,  0.4526,  0.0979,\n",
       "          0.1907,  0.1664, -0.0280,  0.4172,  0.3569, -0.2353,  0.0446,  0.1695,\n",
       "          0.1210,  0.5646, -0.1480,  0.1896,  0.1684,  0.5020, -1.1826, -0.0801,\n",
       "         -0.2077,  0.3875,  0.3455,  0.5450,  0.0385, -0.0615,  0.5739,  0.3247,\n",
       "          0.5463,  0.2460,  0.1086,  0.0479,  0.2099,  0.3979,  0.4967, -0.1587,\n",
       "          0.6980,  0.0743,  0.5358, -0.1051,  0.3026, -0.2567,  0.0591, -0.0440,\n",
       "          0.0865, -0.3125,  0.1980,  0.0614,  0.4860,  0.1810,  0.4710,  0.0339,\n",
       "          0.0025,  0.7114,  0.2774, -0.3509,  0.1904, -0.2969,  0.5846,  0.3176,\n",
       "          0.2327,  0.0394, -0.0579,  0.7148,  0.8238,  0.0826,  0.6632,  0.0197,\n",
       "          0.2600,  0.0909,  0.3061,  0.1757, -0.0286,  0.1605, -0.0167,  0.5551,\n",
       "         -0.3063,  0.4076, -0.7690, -0.1486,  0.1690,  0.4918, -0.0304,  0.0251,\n",
       "         -0.1538,  0.1381,  0.1285, -0.0791, -0.4114, -0.6875,  0.4628,  0.4188,\n",
       "          0.2768,  0.5848,  0.6742,  0.3198, -0.0109,  1.3149, -0.0581,  0.7931,\n",
       "          0.0082, -0.2006,  0.1331,  0.1707,  0.1646,  0.2897, -0.6440, -0.0739,\n",
       "          0.0812,  0.2248, -0.2154,  0.5180, -0.3584, -0.0113,  0.2972, -0.0032,\n",
       "          0.0157,  0.3440,  0.6414, -0.3381,  0.1975,  0.0911,  0.6305,  0.1870,\n",
       "          0.1243,  0.4870,  0.2035, -0.7475,  1.0833,  0.4333,  0.2743, -0.2924,\n",
       "          0.8609, -0.3516,  0.5616,  1.6739], requires_grad=True),\n",
       " tensor([ 0.9016,  1.1041,  0.2137, -0.1611,  0.4384,  0.5319, -0.1863,  0.0920,\n",
       "          0.5761,  0.8021, -0.2615,  0.2233,  0.6933, -0.0049,  0.4478,  0.1405,\n",
       "          0.0913, -0.6195,  0.4796,  0.9875,  0.1877,  0.4740, -0.2766, -0.4451,\n",
       "         -0.3348,  0.1156, -0.4804], requires_grad=True))"
      ]
     },
     "execution_count": 998,
     "metadata": {},
     "output_type": "execute_result"
    },
    {
     "data": {
      "image/png": "[encoded data removed]",
      "text/plain": [
       "<Figure size 640x480 with 1 Axes>"
      ]
     },
     "metadata": {},
     "output_type": "display_data"
    }
   ],
   "source": [
    "# experimenting with different random param inits\n",
    "\n",
    "nn = 300 # number of neurons\n",
    "# params init\n",
    "C = 0.1 + 0.2 * torch.rand((num_chars, 10)) # what is the requirement for the embedding? AN: there is none, the init value doesn't matter\n",
    "W1 = 0.1 + 0.2 * torch.rand((30, nn)) # remember: the first element in size tuple represents the input size/dimension, meaning viewed as a matrix, each column contains the list of weights for a neuron\n",
    "b1 = 0.1 + 0.2 * torch.rand(nn)\n",
    "W2 = 0.1 + 0.2 * torch.rand((nn, num_chars))\n",
    "b2 = 0.1 + 0.2 * torch.rand(num_chars)\n",
    "params = [C, W1, b1, W2, b2]\n",
    "for p in params:\n",
    "  p.requires_grad = True\n",
    "\n",
    "stepi = []\n",
    "lossi = []\n",
    "\n",
    "batch_size = 128\n",
    "for i in range(200000):\n",
    "  # minibatch construct\n",
    "  ix = torch.randint(0, Xtr.shape[0], (batch_size,))\n",
    "  # forward pass\n",
    "  emb = C[Xtr[ix]]\n",
    "  h = torch.tanh(emb.view(-1, 30) @ W1 + b1)\n",
    "  logits = h @ W2 + b2\n",
    "  loss = F.cross_entropy(logits, Ytr[ix])\n",
    "  # backward pass\n",
    "  for p in params: # note: this reset (to None, not 0) happens before loss.backward()\n",
    "    p.grad = None\n",
    "  loss.backward()\n",
    "  # update\n",
    "  learning_rate = 0.1 if i < 100000 else 0.01\n",
    "  for p in params:\n",
    "    p.data += -learning_rate * p.grad\n",
    "  \n",
    "  # tracking stats\n",
    "  stepi.append(i)\n",
    "  lossi.append(loss.log10().item())\n",
    "\n",
    "print(loss.item())\n",
    "plt.plot(stepi, lossi)\n",
    "C, W1, W2, b1, b2\n",
    "# observations:\n",
    "# batch size from 30 to X.shape[0], the resulting loss of 100 iters is basically the same, around 10"
   ]
  },
  {
   "cell_type": "code",
   "execution_count": null,
   "metadata": {},
   "outputs": [
    {
     "name": "stdout",
     "output_type": "stream",
     "text": [
      "2.7767186164855957\n"
     ]
    },
    {
     "data": {
      "text/plain": [
       "(tensor([[-1.6523, -0.0517, -2.4928, -3.7297, -2.5255, -3.3747, -1.1887, -3.6089,\n",
       "          -1.4182, -3.8872],\n",
       "         [-0.4344, -3.0934, -3.0374, -2.8439, -1.3166, -2.2733, -0.7582, -3.3478,\n",
       "          -0.2774, -1.2786],\n",
       "         [-0.0553, -1.5684, -2.5350, -1.8247, -0.5810, -3.3834, -1.2508, -3.9980,\n",
       "          -3.0105, -1.1502],\n",
       "         [-1.0082, -1.2129, -1.2339, -3.3432, -1.0911, -3.6292, -3.7260, -0.5404,\n",
       "          -3.5921, -0.7980],\n",
       "         [-1.2396, -2.4483, -1.4003, -2.6082, -1.2707, -0.0563, -2.0797, -3.0115,\n",
       "          -0.3991, -1.2199],\n",
       "         [-1.0913, -0.9868, -3.5896, -0.7261, -1.9612, -0.2399, -2.5722, -3.4315,\n",
       "          -3.1972, -0.1208],\n",
       "         [-1.7483, -1.8202, -3.4655, -1.4718, -0.0768, -3.2623, -3.1721, -0.7783,\n",
       "          -3.7951, -2.0419],\n",
       "         [-1.3828, -2.8156, -1.7369, -2.6185, -3.5559, -2.3231, -1.8106, -3.9564,\n",
       "          -2.5009, -1.8290],\n",
       "         [-3.4074, -3.5634, -1.4276, -1.2348, -1.0235, -3.6030, -3.9178, -2.6389,\n",
       "          -0.8413, -1.3706],\n",
       "         [-0.5479, -3.6552, -2.2173, -3.7561, -3.2311, -2.1275, -1.8832, -1.5222,\n",
       "          -0.6337, -0.0182],\n",
       "         [-3.4265, -2.5358, -1.2879, -3.6916, -3.9732, -0.0249, -2.2684, -0.7530,\n",
       "          -2.1580, -1.7393],\n",
       "         [-2.0740, -0.6925, -1.3280, -2.4041, -1.8387, -3.5401, -1.2217, -3.4066,\n",
       "          -3.9360, -3.0593],\n",
       "         [-2.4673, -0.9122, -0.4274, -1.9946, -0.6124, -3.5470, -0.1433, -2.6893,\n",
       "          -1.6757, -3.6727],\n",
       "         [-0.9675, -3.8647, -3.7293, -0.3804, -0.1214, -1.8383, -3.9372, -0.6927,\n",
       "          -1.5221, -0.1017],\n",
       "         [-0.6232, -0.4937, -0.0959, -3.7204, -0.9370, -3.4030, -2.8874, -1.1504,\n",
       "          -1.9450, -0.9382],\n",
       "         [-0.2790, -0.0763, -3.1053, -0.8920, -1.6532, -2.4618, -3.3699, -3.6528,\n",
       "          -2.3393, -3.1210],\n",
       "         [-1.0978, -2.3951, -3.0764, -1.6452, -2.1439, -2.9094, -3.3212, -2.7485,\n",
       "          -3.0846, -2.2722],\n",
       "         [-3.5895, -0.2670, -1.5771, -1.1658, -1.3716, -1.1015, -1.6535, -1.4528,\n",
       "          -0.6398, -2.6734],\n",
       "         [-0.3918, -1.5479, -1.9307, -0.9481, -1.6215, -2.2590, -0.1664, -3.5681,\n",
       "          -1.0633, -3.8663],\n",
       "         [-1.1794, -2.3768, -2.1655, -0.8687, -3.5822, -1.1072, -0.3421, -0.0435,\n",
       "          -0.9586, -2.1114],\n",
       "         [-3.0279, -1.7388, -2.6031, -2.9398, -2.4311, -0.3727, -2.3363, -1.4361,\n",
       "          -2.8985, -3.6007],\n",
       "         [-2.4354, -1.4356, -2.5100, -3.8810, -0.2469, -0.2271, -1.9275, -1.8541,\n",
       "          -1.2968, -3.5548],\n",
       "         [-1.3792, -2.9868, -1.7042, -0.2214, -3.5367, -3.4497, -0.9658, -2.8941,\n",
       "          -2.4192, -1.4534],\n",
       "         [-1.7322, -2.7813, -3.5479, -2.4589, -3.3834, -3.1936, -2.8926, -0.2684,\n",
       "          -2.9709, -3.1398],\n",
       "         [-3.9071, -2.7851, -2.0270, -0.7528, -3.3602, -1.1394, -1.2929, -0.2878,\n",
       "          -3.5742, -3.4931],\n",
       "         [-3.5145, -3.1479, -0.1018, -2.9572, -0.0283, -2.9284, -3.8869, -1.3934,\n",
       "          -0.3546, -2.8489],\n",
       "         [-0.3744, -0.5194, -0.2730, -0.6628, -1.9414, -3.9009, -1.5397, -2.0563,\n",
       "          -1.1518, -2.2390]], requires_grad=True),\n",
       " tensor([[-2.0163, -0.7713, -1.1202,  ..., -2.8095, -1.6944, -3.9998],\n",
       "         [-2.8867, -2.9186, -0.4654,  ..., -1.6108, -3.6347, -2.3751],\n",
       "         [-3.8273, -1.0134, -1.2190,  ..., -1.1846, -3.2546, -0.0543],\n",
       "         ...,\n",
       "         [-3.5878, -0.7750, -0.6892,  ..., -3.7851, -3.3539, -1.0309],\n",
       "         [-3.8741, -3.2209, -2.6911,  ..., -0.1022, -1.5428, -0.6427],\n",
       "         [-3.1164, -1.7057, -0.8000,  ..., -2.0263, -1.7834, -2.2718]],\n",
       "        requires_grad=True),\n",
       " tensor([[-3.5253, -2.8695, -3.3537,  ..., -0.6671, -3.3513, -0.3945],\n",
       "         [-3.5791, -1.6449, -2.7252,  ..., -0.5680, -2.7540, -2.5698],\n",
       "         [-3.3130, -1.4435, -1.7247,  ..., -0.5802, -3.8354, -2.9079],\n",
       "         ...,\n",
       "         [-2.9818, -3.2337, -2.5980,  ..., -1.3977, -2.2561, -3.4521],\n",
       "         [-1.6623, -0.0945, -0.3273,  ..., -2.8459, -1.4970, -0.4304],\n",
       "         [-1.6293, -2.4387, -0.1890,  ..., -1.1293, -3.6712, -2.4024]],\n",
       "        requires_grad=True),\n",
       " tensor([-1.0925, -1.4841, -2.5306, -1.6639, -1.2286, -3.6809, -2.2318, -3.2078,\n",
       "         -2.0140, -3.5078, -2.0488, -0.0050, -0.1018, -2.4254, -0.8767, -0.2387,\n",
       "         -2.2100, -1.2612, -3.9371, -1.9253, -3.1083, -3.0832, -2.0361, -3.2460,\n",
       "         -1.7002, -1.2452, -1.3655, -2.8604, -2.2669, -2.9975, -1.5494, -1.2614,\n",
       "         -3.7465, -1.1373, -1.5722, -0.7210, -2.7315, -2.4948, -0.8646, -2.5819,\n",
       "         -0.9681, -1.3825, -3.1625, -1.4965, -0.3592, -3.0135, -1.5277, -2.5461,\n",
       "         -0.5445, -3.2457, -0.2490, -2.7668, -2.0027, -3.6644, -2.6793, -0.3424,\n",
       "         -1.5909, -0.4831, -1.8916, -3.9259, -2.9195, -0.8771, -1.1897, -0.1681,\n",
       "         -1.2778, -1.5504, -2.9103, -3.0004, -2.6391, -3.0891, -0.6061, -1.4173,\n",
       "         -3.3755, -1.9938, -2.4972, -1.6963, -0.1624, -1.9628, -1.5032, -0.3443,\n",
       "         -3.0277, -2.5862, -0.5301, -1.3435, -1.8021, -1.8322, -1.9431, -2.8920,\n",
       "         -0.9703, -2.5011, -1.5031, -2.0431, -0.2673, -3.6749, -2.6436, -0.5990,\n",
       "         -0.1369, -1.4187, -2.9922, -1.5002, -0.8847, -2.4497, -1.8142, -1.9816,\n",
       "         -3.6038, -2.5305, -2.5908, -3.9044, -1.5195, -1.6265, -1.8116, -1.2894,\n",
       "         -3.3667, -3.5458, -2.5770, -1.8043, -0.7429, -0.1593, -2.4345, -2.6288,\n",
       "         -3.6199, -0.5147, -0.8465, -3.4009, -1.2699, -2.6740, -3.5693, -0.5820,\n",
       "         -1.1472, -0.3063, -0.9723, -3.6963, -3.4549, -0.9913, -0.0089, -0.8942,\n",
       "         -0.5804, -2.5267, -3.9817, -0.0326, -1.1028, -3.9089, -0.3403, -1.6509,\n",
       "         -0.8727, -1.3325, -2.4504, -1.1106, -2.3983, -3.0882, -2.3593, -0.0119,\n",
       "         -2.8368, -2.8750, -1.5568, -1.1131, -1.5776, -1.1437, -0.2567, -1.2380,\n",
       "         -2.9873, -3.8766, -2.7493, -0.8971, -2.4285, -3.6016, -2.1626, -1.8665,\n",
       "         -0.7064, -0.3807, -3.7160, -3.8077, -0.0144, -2.4402, -3.4827, -2.0440,\n",
       "         -0.3867, -2.5389, -0.3260, -0.3783, -0.1375, -3.1358, -2.0672, -0.0124,\n",
       "         -0.7620, -2.4710, -0.4878, -3.3950, -2.5064, -3.2577, -1.9263, -2.0419,\n",
       "         -0.8740, -3.4977, -1.6032, -0.3165, -3.6344, -2.0026, -1.1389, -1.7385,\n",
       "         -0.2301, -1.0130, -0.5283, -3.0402, -2.8817, -2.8942, -3.1308, -0.3580,\n",
       "         -3.0901, -3.8175, -1.6322, -3.3837, -2.7010, -1.4762, -3.8204, -3.1458,\n",
       "         -1.3374, -1.7088, -0.3471, -3.3514, -0.4814, -3.8891, -0.7035, -1.5786,\n",
       "         -2.4590, -1.9077, -2.9059, -3.9613, -0.8312, -0.7498, -0.6643, -1.2093,\n",
       "         -2.3355, -0.4180, -1.2205, -3.2554, -2.6881, -0.8724, -0.9749, -3.6338,\n",
       "         -2.2375, -1.1182, -1.5999, -3.2410, -1.4324, -2.4974, -1.0736, -1.0872,\n",
       "         -3.1997, -3.1735, -0.8310, -1.4013, -2.6013, -0.5651, -3.2890, -0.7560,\n",
       "         -0.0932, -3.6255, -0.6728, -0.5917, -3.2034, -2.6604, -1.8895, -0.6704,\n",
       "         -3.2817, -3.3926, -2.1028, -0.0255, -1.5444, -2.7620, -1.1489, -1.5643,\n",
       "         -0.9474, -2.2105, -2.6892, -1.1630, -2.4572, -0.6858, -2.4099, -2.7813,\n",
       "         -2.2525, -3.6157, -3.8542, -1.7231, -1.6574, -0.2851, -1.1916, -1.2699,\n",
       "         -3.9703, -3.5081, -0.4101, -2.0049, -1.6819, -1.2326, -0.2644, -0.7649,\n",
       "         -3.2550, -0.0534, -3.9087, -2.1116], requires_grad=True),\n",
       " tensor([-0.3554, -0.8274, -1.1576, -2.6038, -2.3969, -0.8352, -1.8960, -3.8585,\n",
       "         -1.7008, -2.6406, -3.5188, -1.2852, -1.7910, -3.0454, -0.0922, -2.1569,\n",
       "         -3.1655, -0.9830, -3.1865, -1.5096, -1.5697, -0.4678, -0.3240, -2.8370,\n",
       "         -2.8516, -2.2150, -0.3715], requires_grad=True))"
      ]
     },
     "execution_count": 1000,
     "metadata": {},
     "output_type": "execute_result"
    },
    {
     "data": {
      "image/png": "[encoded data removed]",
      "text/plain": [
       "<Figure size 640x480 with 1 Axes>"
      ]
     },
     "metadata": {},
     "output_type": "display_data"
    }
   ],
   "source": [
    "# experimenting with different random param inits\n",
    "\n",
    "nn = 300 # number of neurons\n",
    "# params init\n",
    "C = -4 + 4 * torch.rand((num_chars, 10)) # what is the requirement for the embedding? AN: there is none, the init value doesn't matter\n",
    "W1 = -4 + 4 * torch.rand((30, nn)) # remember: the first element in size tuple represents the input size/dimension, meaning viewed as a matrix, each column contains the list of weights for a neuron\n",
    "b1 = -4 + 4 * torch.rand(nn)\n",
    "W2 = -4 + 4 * torch.rand((nn, num_chars))\n",
    "b2 = -4 + 4 * torch.rand(num_chars)\n",
    "params = [C, W1, b1, W2, b2]\n",
    "for p in params:\n",
    "  p.requires_grad = True\n",
    "\n",
    "stepi = []\n",
    "lossi = []\n",
    "\n",
    "batch_size = 128\n",
    "for i in range(200000):\n",
    "  # minibatch construct\n",
    "  ix = torch.randint(0, Xtr.shape[0], (batch_size,))\n",
    "  # forward pass\n",
    "  emb = C[Xtr[ix]]\n",
    "  h = torch.tanh(emb.view(-1, 30) @ W1 + b1)\n",
    "  logits = h @ W2 + b2\n",
    "  loss = F.cross_entropy(logits, Ytr[ix])\n",
    "  # backward pass\n",
    "  for p in params: # note: this reset (to None, not 0) happens before loss.backward()\n",
    "    p.grad = None\n",
    "  loss.backward()\n",
    "  # update\n",
    "  learning_rate = 0.1 if i < 100000 else 0.01\n",
    "  for p in params:\n",
    "    p.data += -learning_rate * p.grad\n",
    "  \n",
    "  # tracking stats\n",
    "  stepi.append(i)\n",
    "  lossi.append(loss.log10().item())\n",
    "\n",
    "print(loss.item())\n",
    "plt.plot(stepi, lossi)\n",
    "C, W1, W2, b1, b2\n",
    "# observations:\n",
    "# batch size from 30 to X.shape[0], the resulting loss of 100 iters is basically the same, around 10"
   ]
  }
 ],
 "metadata": {
  "kernelspec": {
   "display_name": "Python 3 (ipykernel)",
   "language": "python",
   "name": "python3"
  },
  "language_info": {
   "codemirror_mode": {
    "name": "ipython",
    "version": 3
   },
   "file_extension": ".py",
   "mimetype": "text/x-python",
   "name": "python",
   "nbconvert_exporter": "python",
   "pygments_lexer": "ipython3",
   "version": "3.12.1"
  }
 },
 "nbformat": 4,
 "nbformat_minor": 2
}
